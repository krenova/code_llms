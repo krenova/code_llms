{
 "cells": [
  {
   "cell_type": "markdown",
   "metadata": {},
   "source": [
    "# Prompt Engineering Illustration"
   ]
  },
  {
   "cell_type": "markdown",
   "metadata": {},
   "source": [
    "A common real world use case is to recognize the presence of a phrase in text. For example, in the manufacturing context, there may be text descriptions to describe the suspected cause for a product failure. Analyzing such data can be useful for the manufacturer to identify common causes of failures and take steps to address these common causes. For more sophisiticated applications, data related to the products can be used to correlate to these causes of failure and machine learning models can be employed to predict these causes.\n",
    "\n",
    "However, the main challenge is identifying key descriptions in the data. This notebook gives a high level illustration of how we can coax LLMs to identify key descriptions in the data. While this is only an example, these snippet of codes can be extended to for more sophisticated applications."
   ]
  },
  {
   "cell_type": "code",
   "execution_count": 1,
   "metadata": {},
   "outputs": [],
   "source": [
    "import time, torch\n",
    "\n",
    "from langchain.chains import LLMChain\n",
    "from langchain.llms import LlamaCpp\n",
    "from langchain.prompts import PromptTemplate"
   ]
  },
  {
   "cell_type": "code",
   "execution_count": 2,
   "metadata": {},
   "outputs": [
    {
     "name": "stdout",
     "output_type": "stream",
     "text": [
      "Device used for LLM: cuda\n"
     ]
    }
   ],
   "source": [
    "# Check cuda is available.\n",
    "device = \"cuda\" if torch.cuda.is_available() else \"cpu\"\n",
    "print(\"Device used for LLM: %s\" % device)"
   ]
  },
  {
   "cell_type": "markdown",
   "metadata": {},
   "source": [
    "###\n",
    "Note that apart from experimenting with different model parameters, different LLM models might also perform differently for different use cases. Hence, do try different models and see how they perform."
   ]
  },
  {
   "cell_type": "code",
   "execution_count": 27,
   "metadata": {},
   "outputs": [
    {
     "name": "stderr",
     "output_type": "stream",
     "text": [
      "AVX = 1 | AVX2 = 1 | AVX512 = 0 | AVX512_VBMI = 0 | AVX512_VNNI = 0 | FMA = 1 | NEON = 0 | ARM_FMA = 0 | F16C = 1 | FP16_VA = 0 | WASM_SIMD = 0 | BLAS = 1 | SSE3 = 1 | SSSE3 = 0 | VSX = 0 | \n"
     ]
    }
   ],
   "source": [
    "####################################################################################################\n",
    "####################################################################################################\n",
    "# Model Setup\n",
    "####################################################################################################\n",
    "####################################################################################################\n",
    "# Various models in path to choose from:\n",
    "# \"f:/llm_models/vicuna-13b-v1.5.Q5_K_M.gguf\", \n",
    "# \"f:/llm_models/llama-2-13b-chat.Q5_K_M.gguf\", \n",
    "# \"f:/llm_models/llama-2-7b.Q6_K.gguf\",\n",
    "# \"f:/llm_models/llama-2-7b.Q4_K_M.gguf\", \n",
    "# \"f:/llm_models/wizardlm-13b-v1.2.Q5_K_M.gguf\"\n",
    "\n",
    "# Chosen model for the task.\n",
    "path_model = \"f:/llm_models/llama-2-13b-chat.Q5_K_M.gguf\"\n",
    "\n",
    "\n",
    "\n",
    "# Load the model and define the parameters\n",
    "# It appears that non-Llama models could also use the same class for executing commands.\n",
    "llm = LlamaCpp(model_path = path_model,\n",
    "                n_ctx = 500,           # Size of the input context. The larger the slower the processing time.\n",
    "                n_gpu_layers = 24,     # number of gpu layers. to set as high as possible to offload work from cpu to gpu\n",
    "                n_batch = 512,         # batches for processing\n",
    "                n_threads = 20,        # cpu threads, set as high as possible as well.\n",
    "                top_k = 20,            # consider top_k possible next words\n",
    "                top_p=1,\n",
    "                temperature = 0.01,\n",
    "                repeat_penalty=1.5,\n",
    "                echo=True,\n",
    "                max_tokens = 10,       # max tokens allowed to be returned.\n",
    "                verbose = True\n",
    "    )\n"
   ]
  },
  {
   "cell_type": "markdown",
   "metadata": {},
   "source": [
    "## Prompt 1\n",
    "\n",
    "Prompts can play a big role in whether or not you can get the LLM to behave as you would like. Following is an example of a prompt which works in the most straightforward examples."
   ]
  },
  {
   "cell_type": "code",
   "execution_count": 39,
   "metadata": {},
   "outputs": [],
   "source": [
    "####################################################################################################\n",
    "####################################################################################################\n",
    "# Prompt Template and chain intialization\n",
    "####################################################################################################\n",
    "####################################################################################################\n",
    "prompt_template='''SYSTEM: You are a helpful, obedient and honest assistant. Always answer as helpfully.\n",
    "\n",
    "USER: '{prompt_input}'\n",
    "\n",
    "ASSISTANT:\n",
    "'''\n",
    "\n",
    "prompt = PromptTemplate(template = prompt_template, input_variables = [\"prompt_input\"])\n",
    "chain = LLMChain(llm = llm, prompt = prompt, verbose = True)"
   ]
  },
  {
   "cell_type": "code",
   "execution_count": 40,
   "metadata": {},
   "outputs": [],
   "source": [
    "# A use case specific template for user to easily key in a sentence to detect a particular phrase\n",
    "def user_prompt_template(sentence):\n",
    "    output = \"Help me check if the following sentence contains any word or phrase that describes 'Singapore'. \" + \\\n",
    "                \"Note that Singapore can be written as 'Sing', Singapura or or something similar. \" + \\\n",
    "                    \"The spelling might also be wrong or the description might differ slightly but they mean the same thing. \" + \\\n",
    "                        \"Upon detecting the phrase, answer only Yes. Otherwise Answer No. The sentence is: '\" + sentence + \"'\"\n",
    "    return output"
   ]
  },
  {
   "cell_type": "markdown",
   "metadata": {},
   "source": [
    "**Example 1**: Unsuccessful example."
   ]
  },
  {
   "cell_type": "code",
   "execution_count": 41,
   "metadata": {},
   "outputs": [
    {
     "name": "stdout",
     "output_type": "stream",
     "text": [
      "\n",
      "\n",
      "\u001b[1m> Entering new LLMChain chain...\u001b[0m\n",
      "Prompt after formatting:\n",
      "\u001b[32;1m\u001b[1;3mSYSTEM: You are a helpful, obedient and honest assistant. Always answer as helpfully.\n",
      "\n",
      "USER: 'Help me check if the following sentence contains any word or phrase that describes 'Singapore'. Note that Singapore can be written as 'Sing', Singapura or or something similar. The spelling might also be wrong or the description might differ slightly but they mean the same thing. Upon detecting the phrase, answer only Yes. Otherwise Answer No. The sentence is: 'We flew SQ flight to Malaysia''\n",
      "\n",
      "ASSISTANT:\n",
      "\u001b[0m\n"
     ]
    },
    {
     "name": "stderr",
     "output_type": "stream",
     "text": [
      "Llama.generate: prefix-match hit\n"
     ]
    },
    {
     "name": "stdout",
     "output_type": "stream",
     "text": [
      "\n",
      "\u001b[1m> Finished chain.\u001b[0m\n"
     ]
    },
    {
     "data": {
      "text/plain": [
       "'No'"
      ]
     },
     "execution_count": 41,
     "metadata": {},
     "output_type": "execute_result"
    }
   ],
   "source": [
    "# the sentence which we want to evaluate\n",
    "response = chain.run(prompt_input = user_prompt_template(\"We flew SQ flight to Malaysia\"))\n",
    "\n",
    "response"
   ]
  },
  {
   "cell_type": "markdown",
   "metadata": {},
   "source": [
    "**Example 2**: Successful example."
   ]
  },
  {
   "cell_type": "code",
   "execution_count": 45,
   "metadata": {},
   "outputs": [
    {
     "name": "stdout",
     "output_type": "stream",
     "text": [
      "\n",
      "\n",
      "\u001b[1m> Entering new LLMChain chain...\u001b[0m\n",
      "Prompt after formatting:\n",
      "\u001b[32;1m\u001b[1;3mSYSTEM: You are a helpful, obedient and honest assistant. Your main task is to identify the presence of words in a sentence. Some times the word might be mis-spelt or another word could be used to describe the same thing. Excercise some judgement when making these identifications.\n",
      "\n",
      "\n",
      "USER: 'Help me check if the following sentence contains any word or phrase that describes 'Singapore'. Note that Singapore can be written as 'Sing', Singapura or or something similar. The spelling might also be wrong or the description might differ slightly but they mean the same thing. Upon detecting the phrase, answer only Yes. Otherwise Answer No. The sentence is: 'We flew Singapore Airlines flight to Malaysia''\n",
      "\n",
      "ASSISTANT:\n",
      "\u001b[0m\n"
     ]
    },
    {
     "name": "stderr",
     "output_type": "stream",
     "text": [
      "Llama.generate: prefix-match hit\n"
     ]
    },
    {
     "name": "stdout",
     "output_type": "stream",
     "text": [
      "\n",
      "\u001b[1m> Finished chain.\u001b[0m\n"
     ]
    },
    {
     "data": {
      "text/plain": [
       "'Yes'"
      ]
     },
     "execution_count": 45,
     "metadata": {},
     "output_type": "execute_result"
    }
   ],
   "source": [
    "# the sentence which we want to evaluate\n",
    "response = chain.run(prompt_input = user_prompt_template(\"We flew Singapore Airlines flight to Malaysia\"))\n",
    "\n",
    "response"
   ]
  },
  {
   "cell_type": "markdown",
   "metadata": {},
   "source": [
    "## Prompt 2\n",
    "\n",
    "As noted, despite the user inputs to note that there maybe other ways of describing Singapore, the LLM was not able to realize that the text SQ relates the Singapore Airlines and returned a No response. Following is an example of a prompt which is able to overcome the previous limitation."
   ]
  },
  {
   "cell_type": "code",
   "execution_count": 42,
   "metadata": {},
   "outputs": [],
   "source": [
    "prompt_template='''SYSTEM: You are a helpful, obedient and honest assistant. Your main task is to identify the presence of words in a sentence. Some times the word might be mis-spelt or another word could be used to describe the same thing. Excercise some judgement when making these identifications.\n",
    "\n",
    "\n",
    "USER: '{prompt_input}'\n",
    "\n",
    "ASSISTANT:\n",
    "'''\n",
    "prompt = PromptTemplate(template = prompt_template, input_variables = [\"prompt_input\"])\n",
    "chain = LLMChain(llm = llm, prompt = prompt, verbose = True)"
   ]
  },
  {
   "cell_type": "markdown",
   "metadata": {},
   "source": [
    "**Example 1**: Success"
   ]
  },
  {
   "cell_type": "code",
   "execution_count": 43,
   "metadata": {},
   "outputs": [
    {
     "name": "stdout",
     "output_type": "stream",
     "text": [
      "\n",
      "\n",
      "\u001b[1m> Entering new LLMChain chain...\u001b[0m\n",
      "Prompt after formatting:\n",
      "\u001b[32;1m\u001b[1;3mSYSTEM: You are a helpful, obedient and honest assistant. Your main task is to identify the presence of words in a sentence. Some times the word might be mis-spelt or another word could be used to describe the same thing. Excercise some judgement when making these identifications.\n",
      "\n",
      "\n",
      "USER: 'Help me check if the following sentence contains any word or phrase that describes 'Singapore'. Note that Singapore can be written as 'Sing', Singapura or or something similar. The spelling might also be wrong or the description might differ slightly but they mean the same thing. Upon detecting the phrase, answer only Yes. Otherwise Answer No. The sentence is: 'We flew SQ flight to Malaysia''\n",
      "\n",
      "ASSISTANT:\n",
      "\u001b[0m\n"
     ]
    },
    {
     "name": "stderr",
     "output_type": "stream",
     "text": [
      "Llama.generate: prefix-match hit\n"
     ]
    },
    {
     "name": "stdout",
     "output_type": "stream",
     "text": [
      "\n",
      "\u001b[1m> Finished chain.\u001b[0m\n"
     ]
    },
    {
     "data": {
      "text/plain": [
       "'Yes'"
      ]
     },
     "execution_count": 43,
     "metadata": {},
     "output_type": "execute_result"
    }
   ],
   "source": [
    "# the sentence which we want to evaluate\n",
    "response = chain.run(prompt_input = user_prompt_template(\"We flew SQ flight to Malaysia\"))\n",
    "\n",
    "response"
   ]
  },
  {
   "cell_type": "markdown",
   "metadata": {},
   "source": [
    "**Example 2**: Success"
   ]
  },
  {
   "cell_type": "code",
   "execution_count": 47,
   "metadata": {},
   "outputs": [
    {
     "name": "stdout",
     "output_type": "stream",
     "text": [
      "\n",
      "\n",
      "\u001b[1m> Entering new LLMChain chain...\u001b[0m\n",
      "Prompt after formatting:\n",
      "\u001b[32;1m\u001b[1;3mSYSTEM: You are a helpful, obedient and honest assistant. Your main task is to identify the presence of words in a sentence. Some times the word might be mis-spelt or another word could be used to describe the same thing. Excercise some judgement when making these identifications.\n",
      "\n",
      "\n",
      "USER: 'Help me check if the following sentence contains any word or phrase that describes 'Singapore'. Note that Singapore can be written as 'Sing', Singapura or or something similar. The spelling might also be wrong or the description might differ slightly but they mean the same thing. Upon detecting the phrase, answer only Yes. Otherwise Answer No. The sentence is: 'We flew Singapore Airlines flight to Malaysia''\n",
      "\n",
      "ASSISTANT:\n",
      "\u001b[0m\n"
     ]
    },
    {
     "name": "stderr",
     "output_type": "stream",
     "text": [
      "Llama.generate: prefix-match hit\n"
     ]
    },
    {
     "name": "stdout",
     "output_type": "stream",
     "text": [
      "\n",
      "\u001b[1m> Finished chain.\u001b[0m\n"
     ]
    },
    {
     "data": {
      "text/plain": [
       "'Yes'"
      ]
     },
     "execution_count": 47,
     "metadata": {},
     "output_type": "execute_result"
    }
   ],
   "source": [
    "# the sentence which we want to evaluate\n",
    "response = chain.run(prompt_input = user_prompt_template(\"We flew Singapore Airlines flight to Malaysia\"))\n",
    "\n",
    "response"
   ]
  },
  {
   "cell_type": "markdown",
   "metadata": {},
   "source": [
    "**Example 3**: Success"
   ]
  },
  {
   "cell_type": "code",
   "execution_count": 46,
   "metadata": {},
   "outputs": [
    {
     "name": "stdout",
     "output_type": "stream",
     "text": [
      "\n",
      "\n",
      "\u001b[1m> Entering new LLMChain chain...\u001b[0m\n",
      "Prompt after formatting:\n",
      "\u001b[32;1m\u001b[1;3mSYSTEM: You are a helpful, obedient and honest assistant. Your main task is to identify the presence of words in a sentence. Some times the word might be mis-spelt or another word could be used to describe the same thing. Excercise some judgement when making these identifications.\n",
      "\n",
      "\n",
      "USER: 'Help me check if the following sentence contains any word or phrase that describes 'Singapore'. Note that Singapore can be written as 'Sing', Singapura or or something similar. The spelling might also be wrong or the description might differ slightly but they mean the same thing. Upon detecting the phrase, answer only Yes. Otherwise Answer No. The sentence is: 'We are the champions of the world.''\n",
      "\n",
      "ASSISTANT:\n",
      "\u001b[0m\n"
     ]
    },
    {
     "name": "stderr",
     "output_type": "stream",
     "text": [
      "Llama.generate: prefix-match hit\n"
     ]
    },
    {
     "name": "stdout",
     "output_type": "stream",
     "text": [
      "\n",
      "\u001b[1m> Finished chain.\u001b[0m\n"
     ]
    },
    {
     "data": {
      "text/plain": [
       "'No'"
      ]
     },
     "execution_count": 46,
     "metadata": {},
     "output_type": "execute_result"
    }
   ],
   "source": [
    "# the sentence which we want to evaluate\n",
    "response = chain.run(prompt_input = user_prompt_template(\"We are the champions of the world.\"))\n",
    "\n",
    "response"
   ]
  },
  {
   "cell_type": "code",
   "execution_count": null,
   "metadata": {},
   "outputs": [],
   "source": []
  }
 ],
 "metadata": {
  "kernelspec": {
   "display_name": ".env",
   "language": "python",
   "name": "python3"
  },
  "language_info": {
   "codemirror_mode": {
    "name": "ipython",
    "version": 3
   },
   "file_extension": ".py",
   "mimetype": "text/x-python",
   "name": "python",
   "nbconvert_exporter": "python",
   "pygments_lexer": "ipython3",
   "version": "3.11.4"
  },
  "orig_nbformat": 4
 },
 "nbformat": 4,
 "nbformat_minor": 2
}
